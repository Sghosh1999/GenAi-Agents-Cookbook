{
 "cells": [
  {
   "cell_type": "code",
   "execution_count": 6,
   "id": "83d79988",
   "metadata": {},
   "outputs": [],
   "source": [
    "from langchain_openai import AzureChatOpenAI\n",
    "import requests\n",
    "from typing import List, Literal\n",
    "from langchain_community.tools.tavily_search import TavilySearchResults\n",
    "from langchain_core.tools import tool\n",
    "\n",
    "import os\n",
    "from dotenv import load_dotenv\n",
    "load_dotenv()\n",
    "\n",
    "WEATHER_API_KEY = os.environ['WEATHER_API_KEY']\n",
    "TAVILY_API_KEY = os.environ['TAVILY_API_KEY']\n",
    "\n",
    "llm = AzureChatOpenAI(\n",
    "    azure_deployment=\"gpt-35-turbo\",\n",
    "    api_version=os.getenv(\"AZURE_OPENAI_API_VERSION\"),\n",
    "    openai_api_base=os.getenv(\"AZURE_OPENAI_API_BASE\"),\n",
    "    openai_api_key=os.getenv(\"AZURE_OPENAI_API_KEY\"),\n",
    "    temperature=0,\n",
    "    max_tokens=None,\n",
    "    timeout=None,\n",
    "    max_retries=2,)"
   ]
  },
  {
   "cell_type": "code",
   "execution_count": 7,
   "id": "e668702c",
   "metadata": {},
   "outputs": [
    {
     "data": {
      "text/plain": [
       "AIMessage(content='Hello! How can I assist you today?', response_metadata={'token_usage': {'completion_tokens': 9, 'prompt_tokens': 8, 'total_tokens': 17, 'completion_tokens_details': None, 'prompt_tokens_details': None}, 'model_name': 'gpt-3.5-turbo-0125', 'system_fingerprint': 'fp_0165350fbb', 'prompt_filter_results': [{'prompt_index': 0, 'content_filter_results': {'hate': {'filtered': False, 'severity': 'safe'}, 'self_harm': {'filtered': False, 'severity': 'safe'}, 'sexual': {'filtered': False, 'severity': 'safe'}, 'violence': {'filtered': False, 'severity': 'safe'}}}], 'finish_reason': 'stop', 'logprobs': None, 'content_filter_results': {'hate': {'filtered': False, 'severity': 'safe'}, 'self_harm': {'filtered': False, 'severity': 'safe'}, 'sexual': {'filtered': False, 'severity': 'safe'}, 'violence': {'filtered': False, 'severity': 'safe'}}}, id='run-3e01e2b3-5218-451d-962c-e3a7086544f9-0', usage_metadata={'input_tokens': 8, 'output_tokens': 9, 'total_tokens': 17})"
      ]
     },
     "execution_count": 7,
     "metadata": {},
     "output_type": "execute_result"
    }
   ],
   "source": [
    "llm.invoke(\"hi\")"
   ]
  },
  {
   "cell_type": "markdown",
   "id": "67a4471e",
   "metadata": {},
   "source": [
    "## Defining Langchain Tools"
   ]
  },
  {
   "cell_type": "code",
   "execution_count": 8,
   "id": "9a3f2d3c",
   "metadata": {},
   "outputs": [],
   "source": [
    "@tool\n",
    "def get_weather(query: str) -> list:\n",
    "    \"\"\"Search weatherapi to get the current weather\"\"\"\n",
    "    endpoint = f\"http://api.weatherapi.com/v1/current.json?key={WEATHER_API_KEY}&q={query}\"\n",
    "    response = requests.get(endpoint)\n",
    "    data = response.json()\n",
    "\n",
    "    if data.get(\"location\"):\n",
    "        return data\n",
    "    else:\n",
    "        return \"Weather Data Not Found\"\n",
    "\n",
    "@tool\n",
    "def search_web(query: str) -> list:\n",
    "    \"\"\"Search the web for a query\"\"\"\n",
    "    tavily_search = TavilySearchResults(api_key=TAVILY_API_KEY, max_results=2, search_depth='advanced', max_tokens=1000)\n",
    "    results = tavily_search.invoke(query)\n",
    "    return results"
   ]
  },
  {
   "cell_type": "markdown",
   "id": "9c607ab8",
   "metadata": {},
   "source": [
    "To make these tools accessible to the LLM, we can bind them to the model as shown below. In this example, we’re using the Together API to utilize the Llama 3 model. If you have an OpenAI key, you can proceed with that by specifying your key instead."
   ]
  },
  {
   "cell_type": "code",
   "execution_count": 9,
   "id": "1d3a59b4",
   "metadata": {},
   "outputs": [],
   "source": [
    "tools = [search_web, get_weather]\n",
    "llm_with_tools = llm.bind_tools(tools)"
   ]
  },
  {
   "cell_type": "code",
   "execution_count": 10,
   "id": "de3e7841",
   "metadata": {},
   "outputs": [
    {
     "data": {
      "text/plain": [
       "RunnableBinding(bound=AzureChatOpenAI(client=<openai.resources.chat.completions.completions.Completions object at 0x0000020D4A664710>, async_client=<openai.resources.chat.completions.completions.AsyncCompletions object at 0x0000020D4A51CE90>, root_client=<openai.lib.azure.AzureOpenAI object at 0x0000020D4678CEF0>, root_async_client=<openai.lib.azure.AsyncAzureOpenAI object at 0x0000020D4A664740>, temperature=0.0, deployment_name='gpt-35-turbo', openai_api_version='2023-07-01-preview'), kwargs={'tools': [{'type': 'function', 'function': {'name': 'search_web', 'description': 'Search the web for a query', 'parameters': {'type': 'object', 'properties': {'query': {'type': 'string'}}, 'required': ['query']}}}, {'type': 'function', 'function': {'name': 'get_weather', 'description': 'Search weatherapi to get the current weather', 'parameters': {'type': 'object', 'properties': {'query': {'type': 'string'}}, 'required': ['query']}}}]})"
      ]
     },
     "execution_count": 10,
     "metadata": {},
     "output_type": "execute_result"
    }
   ],
   "source": [
    "llm_with_tools"
   ]
  },
  {
   "cell_type": "markdown",
   "id": "ac736647",
   "metadata": {},
   "source": [
    "Now, lets invoke the LLM with a prompt to see the results:"
   ]
  },
  {
   "cell_type": "code",
   "execution_count": 11,
   "id": "b2eebf55",
   "metadata": {},
   "outputs": [
    {
     "name": "stdout",
     "output_type": "stream",
     "text": [
      "[{'name': 'get_weather', 'args': {'query': 'Trivandrum'}, 'id': 'call_DPGgcVb8ZoPVZkPHnH4Fn0bd', 'type': 'tool_call'}, {'name': 'search_web', 'args': {'query': 'Kerala'}, 'id': 'call_DIlsgdfivziQOfjkjDzbSXS2', 'type': 'tool_call'}, {'name': 'search_web', 'args': {'query': 'Why is the sky blue?'}, 'id': 'call_DJUm4Yb5N58vyZRGrMm9KRk3', 'type': 'tool_call'}]\n",
      "I am an AI and do not have real-time data. I recommend checking a reliable weather website or app for the most up-to-date weather information in Trivandrum.\n"
     ]
    }
   ],
   "source": [
    "prompt = \"\"\"\n",
    "    Given only the tools at your disposal, mention tool calls for the following tasks:\n",
    "    Do not change the query given for any search tasks\n",
    "        1. What is the current weather in Trivandrum today\n",
    "        2. Can you tell me about Kerala\n",
    "        3. Why is the sky blue?\n",
    "    \"\"\"\n",
    "\n",
    "results = llm_with_tools.invoke(prompt)\n",
    "\n",
    "print(results.tool_calls)\n",
    "\n",
    "query = \"What is the current weather in Trivandrum today\"\n",
    "response = llm.invoke(query)\n",
    "print(response.content)"
   ]
  },
  {
   "cell_type": "markdown",
   "id": "09bbd110",
   "metadata": {},
   "source": [
    "## 2. Using pre-built agent\n",
    "\n",
    "#### LangGraph offers a pre-built React(Reason and Act) agent, designed to streamline decision-making and action execution.\n",
    "\n",
    "Let’s explore how it works."
   ]
  },
  {
   "cell_type": "code",
   "execution_count": 12,
   "id": "cade3ff3",
   "metadata": {},
   "outputs": [
    {
     "name": "stderr",
     "output_type": "stream",
     "text": [
      "c:\\Users\\sayantghosh\\AppData\\Local\\anaconda3\\envs\\genai\\Lib\\site-packages\\pydantic\\_internal\\_generate_schema.py:898: UserWarning: Mixing V1 models and V2 models (or constructs, like `TypeAdapter`) is not supported. Please upgrade `BaseMessage` to V2.\n",
      "  warn(\n"
     ]
    },
    {
     "name": "stdout",
     "output_type": "stream",
     "text": [
      "================================\u001b[1m Human Message \u001b[0m=================================\n",
      "\n",
      "What is the current weather in Trivandrum today\n",
      "==================================\u001b[1m Ai Message \u001b[0m==================================\n",
      "Tool Calls:\n",
      "  get_weather (call_SgsNT0JDBdlbVRB0poneGAf4)\n",
      " Call ID: call_SgsNT0JDBdlbVRB0poneGAf4\n",
      "  Args:\n",
      "    query: Trivandrum\n",
      "=================================\u001b[1m Tool Message \u001b[0m=================================\n",
      "Name: get_weather\n",
      "\n",
      "{\"location\": {\"name\": \"Trivandrum\", \"region\": \"Kerala\", \"country\": \"India\", \"lat\": 8.5069, \"lon\": 76.9569, \"tz_id\": \"Asia/Kolkata\", \"localtime_epoch\": 1748937120, \"localtime\": \"2025-06-03 13:22\"}, \"current\": {\"last_updated_epoch\": 1748936700, \"last_updated\": \"2025-06-03 13:15\", \"temp_c\": 30.2, \"temp_f\": 86.4, \"is_day\": 1, \"condition\": {\"text\": \"Partly cloudy\", \"icon\": \"//cdn.weatherapi.com/weather/64x64/day/116.png\", \"code\": 1003}, \"wind_mph\": 12.3, \"wind_kph\": 19.8, \"wind_degree\": 295, \"wind_dir\": \"WNW\", \"pressure_mb\": 1009.0, \"pressure_in\": 29.8, \"precip_mm\": 0.01, \"precip_in\": 0.0, \"humidity\": 79, \"cloud\": 50, \"feelslike_c\": 33.8, \"feelslike_f\": 92.8, \"windchill_c\": 30.5, \"windchill_f\": 86.9, \"heatindex_c\": 34.4, \"heatindex_f\": 93.9, \"dewpoint_c\": 22.3, \"dewpoint_f\": 72.1, \"vis_km\": 6.0, \"vis_miles\": 3.0, \"uv\": 10.8, \"gust_mph\": 14.8, \"gust_kph\": 23.8}}\n",
      "==================================\u001b[1m Ai Message \u001b[0m==================================\n",
      "\n",
      "The current weather in Trivandrum, Kerala, India is as follows:\n",
      "- Temperature: 30.2°C (86.4°F)\n",
      "- Condition: Partly cloudy\n",
      "- Wind: 19.8 km/h from WNW\n",
      "- Humidity: 79%\n",
      "- Pressure: 1009.0 mb\n",
      "- Visibility: 6.0 km\n",
      "- UV Index: 10.8\n",
      "\n",
      "It seems like a partly cloudy day in Trivandrum.\n"
     ]
    }
   ],
   "source": [
    "from langgraph.prebuilt import create_react_agent\n",
    "\n",
    "# system prompt is used to inform the tools available to when to use each\n",
    "system_prompt = \"\"\"Act as a helpful assistant.\n",
    "    Use the tools at your disposal to perform tasks as needed.\n",
    "        - get_weather: whenever user asks get the weather of a place.\n",
    "        - search_web: whenever user asks for information on current events or if you don't know the answer.\n",
    "    Use the tools only if you don't know the answer.\n",
    "    \"\"\"\n",
    "\n",
    "agent = create_react_agent(model=llm, tools=tools, state_modifier=system_prompt)\n",
    "\n",
    "# Let’s query the agent to see the result.\n",
    "def print_stream(stream):\n",
    "    for s in stream:\n",
    "        message = s[\"messages\"][-1]\n",
    "        if isinstance(message, tuple):\n",
    "            print(message)\n",
    "        else:\n",
    "            message.pretty_print()\n",
    "\n",
    "inputs = {\"messages\": [(\"user\", \"What is the current weather in Trivandrum today\")]}\n",
    "\n",
    "print_stream(agent.stream(inputs, stream_mode=\"values\"))"
   ]
  },
  {
   "cell_type": "code",
   "execution_count": 16,
   "id": "79ef2530",
   "metadata": {},
   "outputs": [],
   "source": [
    "# import the required methods\n",
    "from langgraph.prebuilt import ToolNode\n",
    "from langgraph.graph import StateGraph, MessagesState, START, END\n",
    "from PIL import Image\n",
    "\n",
    "# define a tool_node with the available tools\n",
    "tools = [search_web, get_weather]\n",
    "tool_node = ToolNode(tools)\n",
    "\n",
    "# define functions to call the LLM or the tools\n",
    "def call_model(state: MessagesState):\n",
    "    messages = state[\"messages\"]\n",
    "    response = llm_with_tools.invoke(messages)\n",
    "    return {\"messages\": [response]}\n",
    "\n",
    "def call_tools(state: MessagesState) -> Literal[\"tools\", END]:\n",
    "    messages = state[\"messages\"]\n",
    "    last_message = messages[-1]\n",
    "    if last_message.tool_calls:\n",
    "        return \"tools\"\n",
    "    return END\n",
    "\n",
    "# initialize the workflow from StateGraph\n",
    "workflow = StateGraph(MessagesState)\n",
    "\n",
    "# add a node named LLM, with call_model function. This node uses an LLM to make decisions based on the input given\n",
    "workflow.add_node(\"LLM\", call_model)\n",
    "\n",
    "# Our workflow starts with the LLM node\n",
    "workflow.add_edge(START, \"LLM\")\n",
    "\n",
    "# Add a tools node\n",
    "workflow.add_node(\"tools\", tool_node)\n",
    "\n",
    "# Add a conditional edge from LLM to call_tools function. It can go tools node or end depending on the output of the LLM. \n",
    "workflow.add_conditional_edges(\"LLM\", call_tools)\n",
    "\n",
    "# tools node sends the information back to the LLM\n",
    "workflow.add_edge(\"tools\", \"LLM\")\n",
    "\n",
    "agent = workflow.compile()"
   ]
  },
  {
   "cell_type": "code",
   "execution_count": 17,
   "id": "4261e33b",
   "metadata": {},
   "outputs": [
    {
     "name": "stdout",
     "output_type": "stream",
     "text": [
      "================================\u001b[1m Human Message \u001b[0m=================================\n",
      "\n",
      "Will it rain in Trivandrum today?\n",
      "==================================\u001b[1m Ai Message \u001b[0m==================================\n",
      "Tool Calls:\n",
      "  get_weather (call_my5XSAHGN3XBT8grIUjWZ1oc)\n",
      " Call ID: call_my5XSAHGN3XBT8grIUjWZ1oc\n",
      "  Args:\n",
      "    query: Trivandrum\n",
      "=================================\u001b[1m Tool Message \u001b[0m=================================\n",
      "Name: get_weather\n",
      "\n",
      "{\"location\": {\"name\": \"Trivandrum\", \"region\": \"Kerala\", \"country\": \"India\", \"lat\": 8.5069, \"lon\": 76.9569, \"tz_id\": \"Asia/Kolkata\", \"localtime_epoch\": 1748937505, \"localtime\": \"2025-06-03 13:28\"}, \"current\": {\"last_updated_epoch\": 1748936700, \"last_updated\": \"2025-06-03 13:15\", \"temp_c\": 30.2, \"temp_f\": 86.4, \"is_day\": 1, \"condition\": {\"text\": \"Partly cloudy\", \"icon\": \"//cdn.weatherapi.com/weather/64x64/day/116.png\", \"code\": 1003}, \"wind_mph\": 12.3, \"wind_kph\": 19.8, \"wind_degree\": 295, \"wind_dir\": \"WNW\", \"pressure_mb\": 1009.0, \"pressure_in\": 29.8, \"precip_mm\": 0.01, \"precip_in\": 0.0, \"humidity\": 79, \"cloud\": 50, \"feelslike_c\": 33.8, \"feelslike_f\": 92.8, \"windchill_c\": 30.5, \"windchill_f\": 86.9, \"heatindex_c\": 34.4, \"heatindex_f\": 93.9, \"dewpoint_c\": 22.3, \"dewpoint_f\": 72.1, \"vis_km\": 6.0, \"vis_miles\": 3.0, \"uv\": 10.8, \"gust_mph\": 14.8, \"gust_kph\": 23.8}}\n",
      "==================================\u001b[1m Ai Message \u001b[0m==================================\n",
      "\n",
      "The current weather in Trivandrum is partly cloudy with a temperature of 30.2°C. There is a slight chance of rain with a precipitation of 0.01 mm.\n"
     ]
    }
   ],
   "source": [
    "\n",
    "for chunk in agent.stream(\n",
    "    {\"messages\": [(\"user\", \"Will it rain in Trivandrum today?\")]},\n",
    "    stream_mode=\"values\",):\n",
    "    chunk[\"messages\"][-1].pretty_print()"
   ]
  },
  {
   "cell_type": "code",
   "execution_count": null,
   "id": "a20afaac",
   "metadata": {},
   "outputs": [],
   "source": []
  }
 ],
 "metadata": {
  "kernelspec": {
   "display_name": "genai",
   "language": "python",
   "name": "python3"
  },
  "language_info": {
   "codemirror_mode": {
    "name": "ipython",
    "version": 3
   },
   "file_extension": ".py",
   "mimetype": "text/x-python",
   "name": "python",
   "nbconvert_exporter": "python",
   "pygments_lexer": "ipython3",
   "version": "3.12.8"
  }
 },
 "nbformat": 4,
 "nbformat_minor": 5
}
