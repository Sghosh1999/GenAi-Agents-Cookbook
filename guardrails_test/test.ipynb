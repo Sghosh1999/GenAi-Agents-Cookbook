{
 "cells": [
  {
   "cell_type": "code",
   "execution_count": null,
   "id": "8e5516cc",
   "metadata": {},
   "outputs": [],
   "source": [
    "import asyncio\n",
    "import os\n",
    "from nemoguardrails import LLMRails, RailsConfig\n",
    "\n",
    "from langchain_openai import AzureChatOpenAI\n",
    "\n",
    "os.environ[\"OPENAI_API_TYPE\"] = \"azure\"\n",
    "os.environ[\"AZURE_OPENAI_API_VERSION\"] = \"2023-07-01-preview\"\n",
    "os.environ[\"AZURE_OPENAI_ENDPOINT\"] = \"\"\n",
    "os.environ[\"AZURE_OPENAI_API_KEY\"] = \"\"\n",
    "\n",
    "llm = AzureChatOpenAI(\n",
    "        azure_deployment=\"gpt-35-turbo\",\n",
    "        api_key=os.environ.get(\"AZURE_OPENAI_API_KEY\"),\n",
    "        azure_endpoint=os.environ.get(\"AZURE_OPENAI_ENDPOINT\"),\n",
    "        api_version=os.environ.get(\"AZURE_OPENAI_API_VERSION\"),\n",
    "        )"
   ]
  },
  {
   "cell_type": "code",
   "execution_count": null,
   "id": "01292a0e",
   "metadata": {},
   "outputs": [],
   "source": [
    "llm.invoke(\"hi\")"
   ]
  },
  {
   "cell_type": "code",
   "execution_count": null,
   "id": "7c751103",
   "metadata": {},
   "outputs": [],
   "source": [
    "input_config = RailsConfig.from_path(\"config/\")\n",
    "app = LLMRails(input_config)\n",
    "\n",
    "def process_with_guardrails(user_propt: str):\n",
    "    response = app.generate(\n",
    "                    messages=[{\"role\": \"user\", \"content\": user_propt}]\n",
    "                )\n",
    "    info = app.explain()\n",
    "    print(response, info)"
   ]
  },
  {
   "cell_type": "code",
   "execution_count": null,
   "id": "b4c40d49",
   "metadata": {},
   "outputs": [],
   "source": [
    "process_with_guardrails(\"What is the capital of France?\")"
   ]
  }
 ],
 "metadata": {
  "kernelspec": {
   "display_name": "guardrail_test",
   "language": "python",
   "name": "python3"
  },
  "language_info": {
   "name": "python",
   "version": "3.12.10"
  }
 },
 "nbformat": 4,
 "nbformat_minor": 5
}
