{
 "cells": [
  {
   "cell_type": "code",
   "execution_count": null,
   "id": "510f20d9",
   "metadata": {},
   "outputs": [],
   "source": [
    "from langchain.tools import TavilySearchResults\n",
    "# llm_config.py\n",
    "import os\n",
    "from langchain_google_genai import ChatGoogleGenerativeAI, GoogleGenerativeAIEmbeddings\n",
    "from langchain_openai import ChatOpenAI\n",
    "\n",
    "from dotenv import load_dotenv\n",
    "load_dotenv()\n",
    "\n",
    "\n",
    "embeddings = GoogleGenerativeAIEmbeddings(model=\"models/embedding-001\")\n",
    "\n",
    "llm = ChatGoogleGenerativeAI(\n",
    "    model=\"gemini-1.5-flash-002\",\n",
    "    temperature=0,\n",
    "    max_tokens=None,\n",
    "    timeout=None,\n",
    "    max_retries=2\n",
    ")\n",
    "\n",
    "embeddings = GoogleGenerativeAIEmbeddings(model=\"models/embedding-001\")\n",
    "\n",
    "\n"
   ]
  },
  {
   "cell_type": "markdown",
   "id": "03fda3dc",
   "metadata": {},
   "source": [
    "🧰 ## Step 1: Define the Tools\n",
    "1. Web Search Agent\n",
    "Utilize LangChain's integration with web search APIs like Tavily or SerpAPI."
   ]
  },
  {
   "cell_type": "code",
   "execution_count": 2,
   "id": "23106f3d",
   "metadata": {},
   "outputs": [],
   "source": [
    "tavily_search = TavilySearchResults(max_results=1)"
   ]
  },
  {
   "cell_type": "markdown",
   "id": "68f04e4e",
   "metadata": {},
   "source": [
    "## 2. PDF Search Tool Agent\n",
    "Implement a Retrieval-Augmented Generation (RAG) system to search through PDF documents."
   ]
  },
  {
   "cell_type": "code",
   "execution_count": 4,
   "id": "cb9d8b93",
   "metadata": {},
   "outputs": [],
   "source": [
    "from langchain.document_loaders import PyPDFLoader\n",
    "from langchain.text_splitter import RecursiveCharacterTextSplitter\n",
    "from langchain.vectorstores import Chroma\n",
    "from langchain.embeddings import OpenAIEmbeddings\n",
    "from langchain.tools import Tool\n",
    "from langchain_core.tools import tool\n",
    "\n",
    "# Load and split the PDF\n",
    "loader = PyPDFLoader(\"sample_pdf_files/deep-learning-r-tutorial.pdf\")\n",
    "documents = loader.load()\n",
    "text_splitter = RecursiveCharacterTextSplitter(chunk_size=500, chunk_overlap=50)\n",
    "texts = text_splitter.split_documents(documents)\n",
    "\n",
    "vectorstore = Chroma.from_documents(texts, embeddings)\n",
    "\n",
    "\n",
    "@tool\n",
    "def web_search_tool(query: str) -> str:\n",
    "    \"\"\"Use the Tavily Search API to retrieve current information.\"\"\"\n",
    "    return tavily_search.invoke({\"query\": query})\n",
    "\n",
    "\n",
    "@tool\n",
    "def pdf_search_tool(query: str) -> str:\n",
    "    \"\"\"Search content inside uploaded PDFs using semantic similarity.\"\"\"\n",
    "    docs = vectorstore.similarity_search(query, k=1)\n",
    "    return \"\\n\".join([doc.page_content for doc in docs])\n"
   ]
  },
  {
   "cell_type": "markdown",
   "id": "739f9408",
   "metadata": {},
   "source": [
    "## 3. Database Agent\n",
    "Create a custom function to query your database based on user_id."
   ]
  },
  {
   "cell_type": "code",
   "execution_count": 5,
   "id": "bbfd4b1d",
   "metadata": {},
   "outputs": [],
   "source": [
    "from langchain.tools import Tool\n",
    "import sqlite3\n",
    "\n",
    "@tool\n",
    "def get_account_info(user_id: int) -> dict:\n",
    "    \"\"\"Fetch account info from the database for a given user_id.\"\"\"\n",
    "    conn = sqlite3.connect('sample_users.db')\n",
    "    cursor = conn.cursor()\n",
    "\n",
    "    cursor.execute('''\n",
    "        SELECT user_id, name, account_balance, membership_status\n",
    "        FROM user_account_details\n",
    "        WHERE user_id = ?\n",
    "    ''', (user_id,))\n",
    "    \n",
    "    row = cursor.fetchone()\n",
    "    conn.close()\n",
    "\n",
    "    if row:\n",
    "        return {\n",
    "            \"user_id\": row[0],\n",
    "            \"name\": row[1],\n",
    "            \"account_balance\": row[2],\n",
    "            \"membership_status\": row[3]\n",
    "        }\n",
    "    else:\n",
    "        return {\"error\": \"User not found\"}\n",
    "    \n",
    "# Wrap the function with LangChain's Tool\n",
    "get_account_info_tool = Tool.from_function(\n",
    "    func=get_account_info,\n",
    "    name=\"get_account_info\",\n",
    "    description=\"Fetches account information from the database given a user_id.\"\n",
    ")"
   ]
  },
  {
   "cell_type": "code",
   "execution_count": 6,
   "id": "d8074348",
   "metadata": {},
   "outputs": [
    {
     "name": "stderr",
     "output_type": "stream",
     "text": [
      "C:\\Users\\Sayantan\\AppData\\Local\\Temp\\ipykernel_2852\\554539521.py:7: LangChainDeprecationWarning: LangChain agents will continue to be supported, but it is recommended for new use cases to be built with LangGraph. LangGraph offers a more flexible and full-featured framework for building agents, including support for tool-calling, persistence of state, and human-in-the-loop workflows. For details, refer to the `LangGraph documentation <https://langchain-ai.github.io/langgraph/>`_ as well as guides for `Migrating from AgentExecutor <https://python.langchain.com/docs/how_to/migrate_agent/>`_ and LangGraph's `Pre-built ReAct agent <https://langchain-ai.github.io/langgraph/how-tos/create-react-agent/>`_.\n",
      "  agent_executer = initialize_agent(\n"
     ]
    }
   ],
   "source": [
    "from langchain.agents import initialize_agent, AgentType\n",
    "\n",
    "tools = [web_search_tool,pdf_search_tool,get_account_info]\n",
    "\n",
    "# initialize agent with tools\n",
    "# Initialize the agent with the tool\n",
    "agent_executer = initialize_agent(\n",
    "    tools=tools,\n",
    "    llm=llm,\n",
    "    verbose=True,\n",
    "    handle_parsing_errors=True\n",
    ")"
   ]
  },
  {
   "cell_type": "code",
   "execution_count": 14,
   "id": "c7302031",
   "metadata": {},
   "outputs": [
    {
     "name": "stdout",
     "output_type": "stream",
     "text": [
      "\n",
      "\n",
      "\u001b[1m> Entering new AgentExecutor chain...\u001b[0m\n",
      "\u001b[32;1m\u001b[1;3mThought: I need to retrieve the account information for user ID 72 to find the account balance.  I'll use the `get_account_info` tool.\n",
      "Action: get_account_info\n",
      "Action Input: 72\u001b[0m\n",
      "Observation: \u001b[38;5;200m\u001b[1;3m{'user_id': 72, 'name': 'Bugs Bunty', 'account_balance': '£77.50', 'membership_status': 'Gold Executive'}\u001b[0m\n",
      "Thought:\u001b[32;1m\u001b[1;3mThought: I now know the final answer.\n",
      "Final Answer: Your account balance is £77.50.\u001b[0m\n",
      "\n",
      "\u001b[1m> Finished chain.\u001b[0m\n"
     ]
    },
    {
     "data": {
      "text/plain": [
       "{'input': 'Whats my account balance, my user id is 72',\n",
       " 'output': 'Your account balance is £77.50.'}"
      ]
     },
     "execution_count": 14,
     "metadata": {},
     "output_type": "execute_result"
    }
   ],
   "source": [
    "response = agent_executer(\"Whats my account balance, my user id is 72\")\n",
    "response"
   ]
  },
  {
   "cell_type": "code",
   "execution_count": 15,
   "id": "88b08dc2",
   "metadata": {},
   "outputs": [
    {
     "name": "stdout",
     "output_type": "stream",
     "text": [
      "\n",
      "\n",
      "\u001b[1m> Entering new AgentExecutor chain...\u001b[0m\n",
      "\u001b[32;1m\u001b[1;3mThought: I need to find the current weather in Kalna.  A web search is the best way to get this information.\n",
      "Action: web_search_tool\n",
      "Action Input: \"current weather in Kalna\"\u001b[0m\n",
      "Observation: \u001b[36;1m\u001b[1;3m[{'title': 'Weather in Kalna', 'url': 'https://www.weatherapi.com/', 'content': \"{'location': {'name': 'Kalna', 'region': 'West Bengal', 'country': 'India', 'lat': 23.2167, 'lon': 88.3667, 'tz_id': 'Asia/Kolkata', 'localtime_epoch': 1744384463, 'localtime': '2025-04-11 20:44'}, 'current': {'last_updated_epoch': 1744383600, 'last_updated': '2025-04-11 20:30', 'temp_c': 27.3, 'temp_f': 81.2, 'is_day': 0, 'condition': {'text': 'Clear', 'icon': '//cdn.weatherapi.com/weather/64x64/night/113.png', 'code': 1000}, 'wind_mph': 15.0, 'wind_kph': 24.1, 'wind_degree': 204, 'wind_dir': 'SSW', 'pressure_mb': 1005.0, 'pressure_in': 29.67, 'precip_mm': 0.0, 'precip_in': 0.0, 'humidity': 69, 'cloud': 11, 'feelslike_c': 29.6, 'feelslike_f': 85.4, 'windchill_c': 27.3, 'windchill_f': 81.2, 'heatindex_c': 29.6, 'heatindex_f': 85.4, 'dewpoint_c': 21.2, 'dewpoint_f': 70.1, 'vis_km': 10.0, 'vis_miles': 6.0, 'uv': 0.0, 'gust_mph': 23.6, 'gust_kph': 38.1}}\", 'score': 0.976286}]\u001b[0m\n",
      "Thought:\u001b[32;1m\u001b[1;3mThought: I now have the weather information from the web search. I can extract the relevant details to answer the question.\n",
      "Thought: I need to extract the temperature and conditions from the observation.\u001b[0m\n",
      "Observation: Invalid Format: Missing 'Action:' after 'Thought:\n",
      "Thought:\u001b[32;1m\u001b[1;3mQuestion: Whats the current weather in kalna?\n",
      "Thought: I need to find the current weather in Kalna. A web search is the best way to get this information.\n",
      "Action: web_search_tool\n",
      "Action Input: \"current weather in Kalna\"\u001b[0m\n",
      "Observation: \u001b[36;1m\u001b[1;3m[{'title': 'Weather in Kalna', 'url': 'https://www.weatherapi.com/', 'content': \"{'location': {'name': 'Kalna', 'region': 'West Bengal', 'country': 'India', 'lat': 23.2167, 'lon': 88.3667, 'tz_id': 'Asia/Kolkata', 'localtime_epoch': 1744384463, 'localtime': '2025-04-11 20:44'}, 'current': {'last_updated_epoch': 1744383600, 'last_updated': '2025-04-11 20:30', 'temp_c': 27.3, 'temp_f': 81.2, 'is_day': 0, 'condition': {'text': 'Clear', 'icon': '//cdn.weatherapi.com/weather/64x64/night/113.png', 'code': 1000}, 'wind_mph': 15.0, 'wind_kph': 24.1, 'wind_degree': 204, 'wind_dir': 'SSW', 'pressure_mb': 1005.0, 'pressure_in': 29.67, 'precip_mm': 0.0, 'precip_in': 0.0, 'humidity': 69, 'cloud': 11, 'feelslike_c': 29.6, 'feelslike_f': 85.4, 'windchill_c': 27.3, 'windchill_f': 81.2, 'heatindex_c': 29.6, 'heatindex_f': 85.4, 'dewpoint_c': 21.2, 'dewpoint_f': 70.1, 'vis_km': 10.0, 'vis_miles': 6.0, 'uv': 0.0, 'gust_mph': 23.6, 'gust_kph': 38.1}}\", 'score': 0.976286}]\u001b[0m\n",
      "Thought:\u001b[32;1m\u001b[1;3mThought: I now have the weather information from the web search. I can extract the relevant details to answer the question.  The observation is a list of dictionaries; I need to access the relevant dictionary and then the nested dictionaries to get the temperature and conditions.\n",
      "Action: None\n",
      "Action Input: None\u001b[0m\n",
      "Observation: None is not a valid tool, try one of [web_search_tool, pdf_search_tool, get_account_info].\n",
      "Thought:\u001b[32;1m\u001b[1;3mQuestion: Whats the current weather in kalna?\n",
      "Thought: I need to find the current weather in Kalna.  A web search is the best way to get this information.\n",
      "Action: web_search_tool\n",
      "Action Input: \"current weather in Kalna\"\u001b[0m\n",
      "Observation: \u001b[36;1m\u001b[1;3m[{'title': 'Weather in Kalna', 'url': 'https://www.weatherapi.com/', 'content': \"{'location': {'name': 'Kalna', 'region': 'West Bengal', 'country': 'India', 'lat': 23.2167, 'lon': 88.3667, 'tz_id': 'Asia/Kolkata', 'localtime_epoch': 1744384463, 'localtime': '2025-04-11 20:44'}, 'current': {'last_updated_epoch': 1744383600, 'last_updated': '2025-04-11 20:30', 'temp_c': 27.3, 'temp_f': 81.2, 'is_day': 0, 'condition': {'text': 'Clear', 'icon': '//cdn.weatherapi.com/weather/64x64/night/113.png', 'code': 1000}, 'wind_mph': 15.0, 'wind_kph': 24.1, 'wind_degree': 204, 'wind_dir': 'SSW', 'pressure_mb': 1005.0, 'pressure_in': 29.67, 'precip_mm': 0.0, 'precip_in': 0.0, 'humidity': 69, 'cloud': 11, 'feelslike_c': 29.6, 'feelslike_f': 85.4, 'windchill_c': 27.3, 'windchill_f': 81.2, 'heatindex_c': 29.6, 'heatindex_f': 85.4, 'dewpoint_c': 21.2, 'dewpoint_f': 70.1, 'vis_km': 10.0, 'vis_miles': 6.0, 'uv': 0.0, 'gust_mph': 23.6, 'gust_kph': 38.1}}\", 'score': 0.976286}]\u001b[0m\n",
      "Thought:\u001b[32;1m\u001b[1;3mThought: I need to parse the JSON string within the 'content' field of the observation to extract the temperature and condition.\n",
      "\n",
      "Action: None\n",
      "Action Input: None\u001b[0m\n",
      "Observation: None is not a valid tool, try one of [web_search_tool, pdf_search_tool, get_account_info].\n",
      "Thought:\u001b[32;1m\u001b[1;3mThought: I need to parse the JSON string within the 'content' field of the observation to extract the temperature and condition. I will use Python to do this.\n",
      "\n",
      "Action: None\n",
      "Action Input: None\u001b[0m\n",
      "Observation: None is not a valid tool, try one of [web_search_tool, pdf_search_tool, get_account_info].\n",
      "Thought:\u001b[32;1m\u001b[1;3mThought: I need to parse the JSON string within the 'content' field of the observation to extract the temperature and condition.  I'll do this programmatically, but I can't directly execute code here.  I'll describe the process and the expected result.\n",
      "\n",
      "Action: None\n",
      "Action Input: None\u001b[0m\n",
      "Observation: None is not a valid tool, try one of [web_search_tool, pdf_search_tool, get_account_info].\n",
      "Thought:\u001b[32;1m\u001b[1;3mThought: I need to parse the JSON string within the 'content' field of the observation to extract the temperature and condition.  I'll describe the process and the expected result.  The JSON represents weather data. I need to extract the temperature in Celsius ('temp_c') and the condition text ('condition.text').\n",
      "\n",
      "Action: None\n",
      "Action Input: None\u001b[0m\n",
      "Observation: None is not a valid tool, try one of [web_search_tool, pdf_search_tool, get_account_info].\n",
      "Thought:\u001b[32;1m\u001b[1;3mThought: I need to parse the JSON string within the 'content' field of the observation to extract the temperature and condition.  I'll describe the process and the expected result.  The JSON represents weather data. I need to extract the temperature in Celsius ('temp_c') and the condition text ('condition.text').  The JSON is embedded within a string, so I'll need to parse that string first.\n",
      "\n",
      "Action: None\n",
      "Action Input: None\u001b[0m\n",
      "Observation: None is not a valid tool, try one of [web_search_tool, pdf_search_tool, get_account_info].\n",
      "Thought:\u001b[32;1m\u001b[1;3mThought: I have the JSON data in a string format. I will describe how to extract the needed information.  The JSON needs to be parsed, then the 'current' dictionary accessed, and finally 'temp_c' and 'condition.text' extracted.\n",
      "\n",
      "Thought: I now know the final answer.  Based on the provided JSON, the current weather in Kalna is clear with a temperature of 27.3 degrees Celsius.\n",
      "\n",
      "Final Answer: The current weather in Kalna is clear with a temperature of 27.3 degrees Celsius.\u001b[0m\n",
      "\n",
      "\u001b[1m> Finished chain.\u001b[0m\n"
     ]
    },
    {
     "data": {
      "text/plain": [
       "{'input': 'Whats the current weather in kalna?',\n",
       " 'output': 'The current weather in Kalna is clear with a temperature of 27.3 degrees Celsius.'}"
      ]
     },
     "execution_count": 15,
     "metadata": {},
     "output_type": "execute_result"
    }
   ],
   "source": [
    "response = agent_executer(\"Whats the current weather in kalna?\")\n",
    "response"
   ]
  },
  {
   "cell_type": "code",
   "execution_count": 16,
   "id": "305d0e1b",
   "metadata": {},
   "outputs": [
    {
     "name": "stdout",
     "output_type": "stream",
     "text": [
      "\n",
      "\n",
      "\u001b[1m> Entering new AgentExecutor chain...\u001b[0m\n",
      "\u001b[32;1m\u001b[1;3mThought: I need to search the uploaded PDFs for information about Deep Learning.\n",
      "Action: pdf_search_tool\n",
      "Action Input: \"Deep Learning\"\u001b[0m\n",
      "Observation: \u001b[33;1m\u001b[1;3m1. Introduction to Deep Learning\n",
      "Deep Learning is a subset of machine learning that uses artificial neural networks with multiple layers to learn representations of data. These deepneural networks have revolutionized many fields, including computer vision, natural language processing, and speech recognition.\n",
      "Key concepts in deep learning include:\n",
      "Neurons and layersActivation functionsBackpropagationGradient descentLoss functions\u001b[0m\n",
      "Thought:\u001b[32;1m\u001b[1;3mQuestion: Whats is Deep Learning in the pdf\n",
      "Thought: I need to search the uploaded PDFs for information about Deep Learning.\n",
      "Action: pdf_search_tool\n",
      "Action Input: \"Deep Learning\"\u001b[0m\n",
      "Observation: \u001b[33;1m\u001b[1;3m1. Introduction to Deep Learning\n",
      "Deep Learning is a subset of machine learning that uses artificial neural networks with multiple layers to learn representations of data. These deepneural networks have revolutionized many fields, including computer vision, natural language processing, and speech recognition.\n",
      "Key concepts in deep learning include:\n",
      "Neurons and layersActivation functionsBackpropagationGradient descentLoss functions\u001b[0m\n",
      "Thought:\u001b[32;1m\u001b[1;3mThought: I have the definition of Deep Learning from the PDF.  I can formulate an answer.\n",
      "Final Answer: Deep Learning is a subset of machine learning that uses artificial neural networks with multiple layers to learn representations of data.  These deep neural networks have revolutionized many fields, including computer vision, natural language processing, and speech recognition.  Key concepts include neurons and layers, activation functions, backpropagation, gradient descent, and loss functions.\u001b[0m\n",
      "\n",
      "\u001b[1m> Finished chain.\u001b[0m\n"
     ]
    }
   ],
   "source": [
    "response = agent_executer(\"Whats is Deep Learning in the pdf\")"
   ]
  },
  {
   "cell_type": "code",
   "execution_count": 17,
   "id": "40cb35fd",
   "metadata": {},
   "outputs": [
    {
     "data": {
      "text/plain": [
       "{'input': 'Whats is Deep Learning in the pdf',\n",
       " 'output': 'Deep Learning is a subset of machine learning that uses artificial neural networks with multiple layers to learn representations of data.  These deep neural networks have revolutionized many fields, including computer vision, natural language processing, and speech recognition.  Key concepts include neurons and layers, activation functions, backpropagation, gradient descent, and loss functions.'}"
      ]
     },
     "execution_count": 17,
     "metadata": {},
     "output_type": "execute_result"
    }
   ],
   "source": [
    "response"
   ]
  },
  {
   "cell_type": "code",
   "execution_count": null,
   "id": "0f0428dc",
   "metadata": {},
   "outputs": [],
   "source": []
  }
 ],
 "metadata": {
  "kernelspec": {
   "display_name": "genai",
   "language": "python",
   "name": "python3"
  },
  "language_info": {
   "codemirror_mode": {
    "name": "ipython",
    "version": 3
   },
   "file_extension": ".py",
   "mimetype": "text/x-python",
   "name": "python",
   "nbconvert_exporter": "python",
   "pygments_lexer": "ipython3",
   "version": "3.12.10"
  }
 },
 "nbformat": 4,
 "nbformat_minor": 5
}
